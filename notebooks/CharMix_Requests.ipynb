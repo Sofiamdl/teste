{
  "cells": [
    {
      "cell_type": "markdown",
      "metadata": {
        "colab_type": "text",
        "id": "view-in-github"
      },
      "source": [
        "<a href=\"https://colab.research.google.com/github/LorenaVilaca/CharMix/blob/main/notebooks/CharMix_Requests.ipynb\" target=\"_parent\"><img src=\"https://colab.research.google.com/assets/colab-badge.svg\" alt=\"Open In Colab\"/></a>"
      ]
    },
    {
      "cell_type": "markdown",
      "id": "d9a0131f",
      "metadata": {
        "id": "d9a0131f"
      },
      "source": [
        "# CharMaker\n",
        "\n",
        "#### **Flow**\n",
        "1. Imports\n",
        "2. Preparo das imagens\n",
        "- [X] ~~Testar carregar as imagens base64~~\n",
        "- [X] ~~Testar carregar com URL~~\n",
        "3. Envio de primeiro prompt\n",
        "\n",
        "```\n",
        "You are a description assistant, skilled in describing an image to others who can't see it.\n",
        "You must structure your description in six main categories:\n",
        "Appearance, Facial expression, Body pose, Clothes, The feeling the image gives and the Artstyle (including if it is 2D or 3D).\n",
        "\n",
        "```\n",
        "4. Envio das imagens -> Primeiro descreva uma e depois a outra\n",
        "- [X] ~~Criar variável pro prompt~~\n",
        "- [X] ~~Checar se o envio ta funcionando~~\n",
        "- [X] ~~Extrair e salvar descrição da response~~ (talvez em algum arquivo) -> Solução: variável\n",
        "\n",
        "\n",
        "5. Mistura das descrições\n",
        "\n",
        "6. Envio da nova descrição pra geração de imagem\n",
        "- [X] ~~Gerar URL~~\n",
        "- [X] ~~Testar fazer o donwload do arquivo~~\n",
        "\n",
        "```\n",
        "You are a description assistant, skilled in combining the descriptions of two different images in one new character with mixed characteristics.\n",
        "You must structure your description in six main categories:\n",
        "APPEARENCE, FACIAL EXPRESSION, BODY POSE, CLOTHES, THE FELLING THE IMAGE GIVES and ARTSTYLE.\n",
        "Combine these two descriptions, and the new Artstyle should be the same as the first description's Artstyle.\n",
        "```\n",
        "\n",
        "#### **Dúvidas**\n",
        "\n",
        "* O chatgpt retém informações tbm pela api? No sentido de dar pra continuar uma conversa -> Aparentemente [não](https://platform.openai.com/docs/guides/vision#:~:text=The%20Chat%20Completions%20API%2C%20unlike%20the%20Assistants%20API%2C%20is%20not%20stateful)\n",
        "* Depois tem que fazer a parte de tratar as descrições recebidas pra filtrar etc\n",
        "\n",
        "\n",
        "#### **Ferramentas**\n",
        "\n",
        "* Dalle\n",
        "* ChatGPT\n",
        "\n",
        "#### **REF**\n",
        "* [Vision API Doc](https://platform.openai.com/docs/guides/vision)\n",
        "---\n"
      ]
    },
    {
      "cell_type": "markdown",
      "id": "YC2w3UB6UCNa",
      "metadata": {
        "id": "YC2w3UB6UCNa"
      },
      "source": [
        "## Setup Inicial"
      ]
    },
    {
      "cell_type": "code",
      "execution_count": 4,
      "id": "IuI3V0ElTydb",
      "metadata": {
        "colab": {
          "base_uri": "https://localhost:8080/"
        },
        "collapsed": true,
        "id": "IuI3V0ElTydb",
        "outputId": "8f4faf2f-eb09-4002-fca2-18a5b97befd3"
      },
      "outputs": [
        {
          "name": "stdout",
          "output_type": "stream",
          "text": [
            "Requirement already satisfied: openai in /usr/local/lib/python3.10/dist-packages (1.35.14)\n",
            "Requirement already satisfied: anyio<5,>=3.5.0 in /usr/local/lib/python3.10/dist-packages (from openai) (3.7.1)\n",
            "Requirement already satisfied: distro<2,>=1.7.0 in /usr/lib/python3/dist-packages (from openai) (1.7.0)\n",
            "Requirement already satisfied: httpx<1,>=0.23.0 in /usr/local/lib/python3.10/dist-packages (from openai) (0.27.0)\n",
            "Requirement already satisfied: pydantic<3,>=1.9.0 in /usr/local/lib/python3.10/dist-packages (from openai) (2.8.2)\n",
            "Requirement already satisfied: sniffio in /usr/local/lib/python3.10/dist-packages (from openai) (1.3.1)\n",
            "Requirement already satisfied: tqdm>4 in /usr/local/lib/python3.10/dist-packages (from openai) (4.66.4)\n",
            "Requirement already satisfied: typing-extensions<5,>=4.7 in /usr/local/lib/python3.10/dist-packages (from openai) (4.12.2)\n",
            "Requirement already satisfied: idna>=2.8 in /usr/local/lib/python3.10/dist-packages (from anyio<5,>=3.5.0->openai) (3.7)\n",
            "Requirement already satisfied: exceptiongroup in /usr/local/lib/python3.10/dist-packages (from anyio<5,>=3.5.0->openai) (1.2.2)\n",
            "Requirement already satisfied: certifi in /usr/local/lib/python3.10/dist-packages (from httpx<1,>=0.23.0->openai) (2024.7.4)\n",
            "Requirement already satisfied: httpcore==1.* in /usr/local/lib/python3.10/dist-packages (from httpx<1,>=0.23.0->openai) (1.0.5)\n",
            "Requirement already satisfied: h11<0.15,>=0.13 in /usr/local/lib/python3.10/dist-packages (from httpcore==1.*->httpx<1,>=0.23.0->openai) (0.14.0)\n",
            "Requirement already satisfied: annotated-types>=0.4.0 in /usr/local/lib/python3.10/dist-packages (from pydantic<3,>=1.9.0->openai) (0.7.0)\n",
            "Requirement already satisfied: pydantic-core==2.20.1 in /usr/local/lib/python3.10/dist-packages (from pydantic<3,>=1.9.0->openai) (2.20.1)\n"
          ]
        }
      ],
      "source": [
        "!pip install openai"
      ]
    },
    {
      "cell_type": "code",
      "execution_count": 5,
      "id": "J3P0ZLZTA082",
      "metadata": {
        "id": "J3P0ZLZTA082"
      },
      "outputs": [],
      "source": [
        "import os\n",
        "from google.colab import userdata\n",
        "from openai import OpenAI\n",
        "\n",
        "# os.environ[\"OPENAI_API_KEY\"] = userdata.get('openai_api')\n",
        "\n",
        "client = OpenAI(api_key = userdata.get('openai_api'))\n",
        "\n",
        "modelo_prompt_descricao = \"\"\"\n",
        "You are a description assistant, skilled in describing an image to others who can't see it.\n",
        "You must structure your description in six main categories:\n",
        "Appearance, Facial expression, Body pose, Clothes, The feeling the image gives and the Artstyle (including if it is 2D or 3D).\n",
        "\"\"\"\n",
        "\n",
        "modelo_prompt_geracao = \"\"\"\n",
        "You are a description assistant, skilled in combining the descriptions of two different images in one new character with mixed characteristics.\n",
        "You must structure your description in six main categories:\n",
        "APPEARENCE, FACIAL EXPRESSION, BODY POSE, CLOTHES, THE FELLING THE IMAGE GIVES and ARTSTYLE.\n",
        "Combine these two descriptions, and the new Artstyle should be the same as the first description's Artstyle.\n",
        "\"\"\"\n",
        "\n",
        "result_path = \"/content/THIS_IS_THE_RESULT.jpg\""
      ]
    },
    {
      "cell_type": "markdown",
      "id": "0b5660bf",
      "metadata": {
        "id": "0b5660bf"
      },
      "source": [
        "## Preparo das imagens\n",
        "\n",
        "**Rodar apenas 1, dependendo da opção.**"
      ]
    },
    {
      "cell_type": "markdown",
      "id": "TRbV0X7keXVp",
      "metadata": {
        "id": "TRbV0X7keXVp"
      },
      "source": [
        "#### Com imagem local\n",
        "\n",
        "Colocar as imagens na pasta *input_images* e trocar as variáveis \"*image_path*\" pra elas"
      ]
    },
    {
      "cell_type": "code",
      "execution_count": 7,
      "id": "e9db25f3",
      "metadata": {
        "id": "e9db25f3"
      },
      "outputs": [],
      "source": [
        "import base64\n",
        "\n",
        "def encode_image(image_path):\n",
        "  with open(image_path, \"rb\") as image_file:\n",
        "    return base64.b64encode(image_file.read()).decode('utf-8')\n",
        "\n",
        "# Path to images\n",
        "image1_path = \"/content/input_images/coraline.png\"\n",
        "image2_path = \"/content/input_images/olivia_palito.jpg\"\n",
        "\n",
        "# Getting the base64 string\n",
        "base64_image1 = encode_image(image1_path)\n",
        "base64_image2 = encode_image(image2_path)\n",
        "\n",
        "# Formatting\n",
        "image1 = f\"data:image/jpeg;base64,{base64_image1}\"\n",
        "image2 = f\"data:image/jpeg;base64,{base64_image2}\""
      ]
    },
    {
      "cell_type": "markdown",
      "id": "gKJd8QwiecrZ",
      "metadata": {
        "id": "gKJd8QwiecrZ"
      },
      "source": [
        "#### Com URL\n",
        "Neste caso, só mudar as urls aqui embaixo"
      ]
    },
    {
      "cell_type": "code",
      "execution_count": null,
      "id": "-5tbX0QEewnZ",
      "metadata": {
        "id": "-5tbX0QEewnZ"
      },
      "outputs": [],
      "source": [
        "image1 = \"https://64.media.tumblr.com/75d11ac15910572e6746076a5f85ee79/tumblr_inline_p7hjyx0kY11spo3o7_500.jpg\" # Wirt\n",
        "image2 = \"https://i0.wp.com/otakusbrasil.com/wp-content/uploads/2023/10/Sailor_Moon_TV_Series-848012693-large.jpg\" # Sailor Moon"
      ]
    },
    {
      "cell_type": "markdown",
      "id": "21284c47",
      "metadata": {
        "id": "21284c47"
      },
      "source": [
        "## Envio das imagens"
      ]
    },
    {
      "cell_type": "code",
      "execution_count": 8,
      "id": "baa6e808",
      "metadata": {
        "collapsed": true,
        "id": "baa6e808"
      },
      "outputs": [],
      "source": [
        "def get_description(image_ref):\n",
        "  response = client.chat.completions.create(\n",
        "    model=\"gpt-4o\",\n",
        "    messages=[\n",
        "      {\n",
        "        \"role\": \"user\",\n",
        "        \"content\": [\n",
        "          {\"type\": \"text\", \"text\": modelo_prompt_descricao},\n",
        "          {\n",
        "            \"type\": \"image_url\",\n",
        "            \"image_url\": {\n",
        "              \"url\": image_ref\n",
        "  ,\n",
        "            },\n",
        "          },\n",
        "        ],\n",
        "      }\n",
        "    ],\n",
        "    max_tokens=500,\n",
        "  )\n",
        "  return response.choices[0].message.content"
      ]
    },
    {
      "cell_type": "markdown",
      "id": "ttpWnP6Si6pi",
      "metadata": {
        "id": "ttpWnP6Si6pi"
      },
      "source": []
    },
    {
      "cell_type": "code",
      "execution_count": 10,
      "id": "7rVC3tnaV0fq",
      "metadata": {
        "collapsed": true,
        "id": "7rVC3tnaV0fq"
      },
      "outputs": [],
      "source": [
        "# ta feio mas tbh to fazendo de qualquer jeito pra funcionar primeiro\n",
        "\n",
        "description_1= get_description(image1)\n",
        "description_2= get_description(image2)\n",
        "\n",
        "descriptions = f\"First character:\\n{description_1}\\n\\nSecond character:\\n{description_2}\"\n",
        "\n",
        "# print (descriptions)\n"
      ]
    },
    {
      "cell_type": "markdown",
      "id": "azDsVJZdbnZy",
      "metadata": {
        "id": "azDsVJZdbnZy"
      },
      "source": [
        "## Geração da nova imagem"
      ]
    },
    {
      "cell_type": "code",
      "execution_count": 11,
      "id": "ByDVuEXpbwV1",
      "metadata": {
        "colab": {
          "base_uri": "https://localhost:8080/",
          "height": 53
        },
        "id": "ByDVuEXpbwV1",
        "outputId": "328be3b4-405b-445a-9e13-019701fc51e8"
      },
      "outputs": [
        {
          "data": {
            "application/vnd.google.colaboratory.intrinsic+json": {
              "type": "string"
            },
            "text/plain": [
              "'\\n---> Pra pegar a URL ao invés de pegar o arquivo\\n* remover linha \"response_format = b64_json\" do request\\n* descomentar linhas abaixo\\n\\nLembrando que URLs só são válidas por 60 minutos pós-criação\\n'"
            ]
          },
          "execution_count": 11,
          "metadata": {},
          "output_type": "execute_result"
        }
      ],
      "source": [
        "response = client.images.generate(\n",
        "  model=\"dall-e-3\",\n",
        "  prompt=f\"{modelo_prompt_geracao} \\n {descriptions}\",\n",
        "  n=1,\n",
        "  response_format = \"b64_json\",\n",
        "  quality=\"standard\",\n",
        "  size=\"1024x1024\"\n",
        ")\n",
        "\n",
        "image_data= response.data[0]\n",
        "\n",
        "'''\n",
        "---> Pra pegar a URL ao invés de pegar o arquivo\n",
        "* remover linha \"response_format = b64_json\" do request\n",
        "* descomentar linhas abaixo\n",
        "\n",
        "Lembrando que URLs só são válidas por 60 minutos pós-criação\n",
        "'''\n",
        "#image_url = image_data.url\n",
        "#print(image_url)\n"
      ]
    },
    {
      "cell_type": "code",
      "execution_count": 12,
      "id": "N9tRu2LMlhDE",
      "metadata": {
        "id": "N9tRu2LMlhDE"
      },
      "outputs": [],
      "source": [
        "from PIL import Image\n",
        "from io import BytesIO\n",
        "\n",
        "image_obj = image_data.model_dump()[\"b64_json\"]\n",
        "image_obj = Image.open(BytesIO(base64.b64decode(image_obj)))\n",
        "image_obj.save(\"/content/THIS_IS_THE_RESULT.jpg\")"
      ]
    }
  ],
  "metadata": {
    "colab": {
      "include_colab_link": true,
      "provenance": []
    },
    "kernelspec": {
      "display_name": "Python 3 (ipykernel)",
      "language": "python",
      "name": "python3"
    },
    "language_info": {
      "codemirror_mode": {
        "name": "ipython",
        "version": 3
      },
      "file_extension": ".py",
      "mimetype": "text/x-python",
      "name": "python",
      "nbconvert_exporter": "python",
      "pygments_lexer": "ipython3",
      "version": "3.8.16"
    },
    "vscode": {
      "interpreter": {
        "hash": "b1677b440931f40d89ef8be7bf03acb108ce003de0ac9b18e8d43753ea2e7103"
      }
    }
  },
  "nbformat": 4,
  "nbformat_minor": 5
}
